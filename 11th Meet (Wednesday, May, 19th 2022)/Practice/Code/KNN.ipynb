{
  "cells": [
    {
      "cell_type": "code",
      "execution_count": null,
      "metadata": {
        "id": "y6DcHEw8XN0c"
      },
      "outputs": [],
      "source": [
        "#Importing library yang akan digunakan\n",
        "from sklearn.neighbors import KNeighborsClassifier\n",
        "from sklearn.model_selection import train_test_split\n",
        "from sklearn.metrics import confusion_matrix\n",
        "from sklearn.preprocessing import StandardScaler\n",
        "import matplotlib.pyplot as plt\n",
        "import seaborn as sns\n",
        "import pandas as pd\n",
        "import numpy as np"
      ]
    },
    {
      "cell_type": "code",
      "execution_count": null,
      "metadata": {
        "colab": {
          "base_uri": "https://localhost:8080/",
          "height": 206
        },
        "id": "dfHlpyeqXV0_",
        "outputId": "ac7fdb1b-881a-4545-b3c9-ae300623afea"
      },
      "outputs": [],
      "source": [
        "#load dataset\n",
        "irisDataset = pd.read_csv('D:\\Kuliah Online\\Coding & Machine Learning\\8th Meet (Wednesday, April, 13rd 2022)\\Practice\\Data\\iris.csv', sep=',', skiprows=0)\n",
        "irisDataset.head()"
      ]
    },
    {
      "cell_type": "code",
      "execution_count": null,
      "metadata": {},
      "outputs": [],
      "source": [
        "#Visualisasi Data\n",
        "sns.set(style=\"white\", color_codes=True)\n",
        "sns.FacetGrid(irisDataset, hue=\"Species\", size=6).map(plt.scatter, \"Petal Length (cm)\", \"Petal Width (cm)\").add_legend()"
      ]
    },
    {
      "cell_type": "code",
      "execution_count": null,
      "metadata": {},
      "outputs": [],
      "source": [
        "#Memisahkan atribut dengan target class \n",
        "X = irisDataset.iloc[:, 1:5].values\n",
        "y = irisDataset[\"Species\"].values\n",
        "print(\"Atribut Dataset :\")\n",
        "print(X)\n",
        "print(\"Class Target Dataset :\")\n",
        "print(y)"
      ]
    },
    {
      "cell_type": "code",
      "execution_count": null,
      "metadata": {},
      "outputs": [],
      "source": [
        "#Spliting data training dan data testing\n",
        "x_train, x_test, y_train, y_test = train_test_split(X, y, test_size = 0.2, random_state = 42)\n",
        "print(\"Data Training: \")\n",
        "print(x_train)\n",
        "print(len(x_train))\n",
        "print(\"Label Data Training: \")\n",
        "print(y_train)\n",
        "print(len(y_train))\n",
        "print(\"Data Testing: \")\n",
        "print(x_test)\n",
        "print(len(x_test))\n",
        "print(\"Label Data Testing: \")\n",
        "print(y_test)\n",
        "print(len(y_test))"
      ]
    },
    {
      "cell_type": "code",
      "execution_count": null,
      "metadata": {},
      "outputs": [],
      "source": []
    },
    {
      "cell_type": "code",
      "execution_count": null,
      "metadata": {},
      "outputs": [],
      "source": [
        "#Normalisasi dataset \n",
        "sc = StandardScaler()\n",
        "X_train = sc.fit_transform(x_train)\n",
        "X_test = sc.transform(x_test)\n",
        "print(\"Data Training Setelah Normalisasi Dataset :\")\n",
        "print(X_train)\n",
        "print(\"Data Testing Setelah Normalisasi Dataset :\")\n",
        "print(X_test)"
      ]
    },
    {
      "cell_type": "code",
      "execution_count": null,
      "metadata": {},
      "outputs": [],
      "source": [
        "#Training KNN Model \n",
        "model = KNeighborsClassifier(n_neighbors=3)\n",
        "model.fit(X_train, y_train)\n",
        "# print(\"Proses Training Selesai!\")"
      ]
    },
    {
      "cell_type": "code",
      "execution_count": null,
      "metadata": {},
      "outputs": [],
      "source": [
        "#Melakukan testing terhadap model NBC\n",
        "y_pred = model.predict(X_test)\n",
        "print(\"Hasil Prediksi Data Testing Menggunakan NBC :\")\n",
        "print(y_pred)"
      ]
    },
    {
      "cell_type": "code",
      "execution_count": null,
      "metadata": {},
      "outputs": [],
      "source": [
        "#Melakukan perbandingan hasil prediksi label dengan data label asli\n",
        "compare = pd.DataFrame({'Real Values':y_test, 'Predicted Values':y_pred})\n",
        "print(\"Perbandingan Hasil Prediksi :\")\n",
        "print(compare)"
      ]
    },
    {
      "cell_type": "code",
      "execution_count": null,
      "metadata": {},
      "outputs": [],
      "source": [
        "#Hasil akurasi testing\n",
        "prediksiBenar = (y_pred == y_test).sum()\n",
        "prediksiSalah = (y_pred != y_test).sum()\n",
        "print(\"Prediksi Benar : \", prediksiBenar, \"data\")\n",
        "print(\"Prediksi Salah : \", prediksiSalah, \"data\")\n",
        "akurasi = prediksiBenar/(prediksiBenar+prediksiSalah)\n",
        "print(\"Akurasi Model : \", akurasi)"
      ]
    },
    {
      "cell_type": "code",
      "execution_count": null,
      "metadata": {},
      "outputs": [],
      "source": [
        "#condfusion matrix\n",
        "pd.DataFrame(\n",
        "    confusion_matrix(y_test, y_pred),\n",
        "    index=['True : Iris-setosa', 'True : Iris-versicolor', 'True : Iris-virginica'],\n",
        "    columns=['Pred : Iris-setosa', 'Pred : Iris-versicolor', 'Pred : Iris-virginica'],\n",
        ")"
      ]
    },
    {
      "cell_type": "code",
      "execution_count": null,
      "metadata": {},
      "outputs": [],
      "source": [
        "#Contoh memprediksi 1 data\n",
        "data = np.zeros((1, 4), dtype=float)\n",
        "for x in range(4):\n",
        "    if x == 0:\n",
        "        print(\"Masukan nilai sepal length (cm) : \")\n",
        "        a = float(input())\n",
        "        data[0][x] = a\n",
        "    elif x == 1:\n",
        "        print(\"Masukan nilai sepal width (cm) : \")\n",
        "        a = float(input())\n",
        "        data[0][x] = a\n",
        "    elif x == 2:\n",
        "        print(\"Masukan nilai sepal length (cm) : \")\n",
        "        a = float(input())\n",
        "        data[0][x] = a\n",
        "    elif x == 3:\n",
        "        print(\"Masukan nilai sepal length (cm) : \")\n",
        "        a = float(input())\n",
        "        data[0][x] = a\n",
        "print(\"Data yang ingin diprediksi : \", data)\n",
        "data = sc.transform(data)\n",
        "print(\"Hasil Normalisasi Data : \", data)\n",
        "\n",
        "#Klasifikasi data\n",
        "prediction = model.predict(data)\n",
        "print(\"Hasil Prediksi : \", prediction)"
      ]
    }
  ],
  "metadata": {
    "colab": {
      "collapsed_sections": [],
      "name": "cmlDecisionTree.ipynb",
      "provenance": []
    },
    "interpreter": {
      "hash": "ef70928b20deb03e0c0dca091b4fb95bb4ccbb13cf83d55d034bc5d795bd215b"
    },
    "kernelspec": {
      "display_name": "Python 3.9.7 ('Env': venv)",
      "language": "python",
      "name": "python3"
    },
    "language_info": {
      "codemirror_mode": {
        "name": "ipython",
        "version": 3
      },
      "file_extension": ".py",
      "mimetype": "text/x-python",
      "name": "python",
      "nbconvert_exporter": "python",
      "pygments_lexer": "ipython3",
      "version": "3.9.7"
    }
  },
  "nbformat": 4,
  "nbformat_minor": 0
}
