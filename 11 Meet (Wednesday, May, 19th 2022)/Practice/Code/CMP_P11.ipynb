{
  "cells": [
    {
      "cell_type": "code",
      "execution_count": 5,
      "metadata": {
        "id": "COijArPOLEyP"
      },
      "outputs": [],
      "source": [
        "from sklearn.neighbors import KNeighborsClassifier\n",
        "from sklearn.model_selection import train_test_split\n",
        "from sklearn.metrics import confusion_matrix, classification_report\n",
        "from sklearn.preprocessing import StandardScaler\n",
        "import matplotlib.pyplot as plt\n",
        "import seaborn as sns\n",
        "import pandas as pd\n",
        "import numpy as np"
      ]
    },
    {
      "cell_type": "code",
      "execution_count": 6,
      "metadata": {
        "colab": {
          "base_uri": "https://localhost:8080/",
          "height": 206
        },
        "id": "CAg_X4tJL9v2",
        "outputId": "71a7f77f-ab11-4f8a-e081-ea6bb019466f"
      },
      "outputs": [
        {
          "data": {
            "text/html": [
              "<div>\n",
              "<style scoped>\n",
              "    .dataframe tbody tr th:only-of-type {\n",
              "        vertical-align: middle;\n",
              "    }\n",
              "\n",
              "    .dataframe tbody tr th {\n",
              "        vertical-align: top;\n",
              "    }\n",
              "\n",
              "    .dataframe thead th {\n",
              "        text-align: right;\n",
              "    }\n",
              "</style>\n",
              "<table border=\"1\" class=\"dataframe\">\n",
              "  <thead>\n",
              "    <tr style=\"text-align: right;\">\n",
              "      <th></th>\n",
              "      <th>Id</th>\n",
              "      <th>Sepal Length (cm)</th>\n",
              "      <th>Sepal Width (cm)</th>\n",
              "      <th>Petal Length (cm)</th>\n",
              "      <th>Petal Width (cm)</th>\n",
              "      <th>Species</th>\n",
              "    </tr>\n",
              "  </thead>\n",
              "  <tbody>\n",
              "    <tr>\n",
              "      <th>0</th>\n",
              "      <td>1</td>\n",
              "      <td>5.1</td>\n",
              "      <td>3.5</td>\n",
              "      <td>1.4</td>\n",
              "      <td>0.2</td>\n",
              "      <td>Iris-setosa</td>\n",
              "    </tr>\n",
              "    <tr>\n",
              "      <th>1</th>\n",
              "      <td>2</td>\n",
              "      <td>4.9</td>\n",
              "      <td>3.0</td>\n",
              "      <td>1.4</td>\n",
              "      <td>0.2</td>\n",
              "      <td>Iris-setosa</td>\n",
              "    </tr>\n",
              "    <tr>\n",
              "      <th>2</th>\n",
              "      <td>3</td>\n",
              "      <td>4.7</td>\n",
              "      <td>3.2</td>\n",
              "      <td>1.3</td>\n",
              "      <td>0.2</td>\n",
              "      <td>Iris-setosa</td>\n",
              "    </tr>\n",
              "    <tr>\n",
              "      <th>3</th>\n",
              "      <td>4</td>\n",
              "      <td>4.6</td>\n",
              "      <td>3.1</td>\n",
              "      <td>1.5</td>\n",
              "      <td>0.2</td>\n",
              "      <td>Iris-setosa</td>\n",
              "    </tr>\n",
              "    <tr>\n",
              "      <th>4</th>\n",
              "      <td>5</td>\n",
              "      <td>5.0</td>\n",
              "      <td>3.6</td>\n",
              "      <td>1.4</td>\n",
              "      <td>0.2</td>\n",
              "      <td>Iris-setosa</td>\n",
              "    </tr>\n",
              "  </tbody>\n",
              "</table>\n",
              "</div>"
            ],
            "text/plain": [
              "   Id  Sepal Length (cm)  Sepal Width (cm)  Petal Length (cm)  \\\n",
              "0   1                5.1               3.5                1.4   \n",
              "1   2                4.9               3.0                1.4   \n",
              "2   3                4.7               3.2                1.3   \n",
              "3   4                4.6               3.1                1.5   \n",
              "4   5                5.0               3.6                1.4   \n",
              "\n",
              "   Petal Width (cm)      Species  \n",
              "0               0.2  Iris-setosa  \n",
              "1               0.2  Iris-setosa  \n",
              "2               0.2  Iris-setosa  \n",
              "3               0.2  Iris-setosa  \n",
              "4               0.2  Iris-setosa  "
            ]
          },
          "execution_count": 6,
          "metadata": {},
          "output_type": "execute_result"
        }
      ],
      "source": [
        "#Load Dataset\n",
        "irisDataset = pd.read_csv('D:/Kuliah Online/Coding & Machine Learning/11 Meet/iris.csv', sep=',', skiprows=0)\n",
        "irisDataset.head()"
      ]
    },
    {
      "cell_type": "code",
      "execution_count": 7,
      "metadata": {
        "colab": {
          "base_uri": "https://localhost:8080/",
          "height": 509
        },
        "id": "QaYYk2-NMpeB",
        "outputId": "03fb1662-55a7-457a-bbe5-ca49dda0888d"
      },
      "outputs": [
        {
          "name": "stderr",
          "output_type": "stream",
          "text": [
            "d:\\Kuliah Online\\Coding & Machine Learning\\Env\\lib\\site-packages\\seaborn\\axisgrid.py:337: UserWarning: The `size` parameter has been renamed to `height`; please update your code.\n",
            "  warnings.warn(msg, UserWarning)\n"
          ]
        },
        {
          "data": {
            "text/plain": [
              "<seaborn.axisgrid.FacetGrid at 0x181e832e340>"
            ]
          },
          "execution_count": 7,
          "metadata": {},
          "output_type": "execute_result"
        },
        {
          "data": {
            "image/png": "[encoded data removed]",
            "text/plain": [
              "<Figure size 537.225x432 with 1 Axes>"
            ]
          },
          "metadata": {},
          "output_type": "display_data"
        }
      ],
      "source": [
        "#Visualisasi Data\n",
        "sns.set(style=\"white\", color_codes=True)\n",
        "sns.FacetGrid(irisDataset, hue=\"Species\", size=6).map(plt.scatter, \"Petal Length (cm)\", \"Petal Width (cm)\").add_legend()"
      ]
    },
    {
      "cell_type": "code",
      "execution_count": 8,
      "metadata": {
        "colab": {
          "base_uri": "https://localhost:8080/"
        },
        "id": "YXlohszwMu5T",
        "outputId": "c935e6d3-ab8b-4f86-b325-d79501dd4ad5"
      },
      "outputs": [
        {
          "name": "stdout",
          "output_type": "stream",
          "text": [
            "Atribut Dataset :\n",
            "[[5.1 3.5 1.4 0.2]\n",
            " [4.9 3.  1.4 0.2]\n",
            " [4.7 3.2 1.3 0.2]\n",
            " [4.6 3.1 1.5 0.2]\n",
            " [5.  3.6 1.4 0.2]\n",
            " [5.4 3.9 1.7 0.4]\n",
            " [4.6 3.4 1.4 0.3]\n",
            " [5.  3.4 1.5 0.2]\n",
            " [4.4 2.9 1.4 0.2]\n",
            " [4.9 3.1 1.5 0.1]\n",
            " [5.4 3.7 1.5 0.2]\n",
            " [4.8 3.4 1.6 0.2]\n",
            " [4.8 3.  1.4 0.1]\n",
            " [4.3 3.  1.1 0.1]\n",
            " [5.8 4.  1.2 0.2]\n",
            " [5.7 4.4 1.5 0.4]\n",
            " [5.4 3.9 1.3 0.4]\n",
            " [5.1 3.5 1.4 0.3]\n",
            " [5.7 3.8 1.7 0.3]\n",
            " [5.1 3.8 1.5 0.3]\n",
            " [5.4 3.4 1.7 0.2]\n",
            " [5.1 3.7 1.5 0.4]\n",
            " [4.6 3.6 1.  0.2]\n",
            " [5.1 3.3 1.7 0.5]\n",
            " [4.8 3.4 1.9 0.2]\n",
            " [5.  3.  1.6 0.2]\n",
            " [5.  3.4 1.6 0.4]\n",
            " [5.2 3.5 1.5 0.2]\n",
            " [5.2 3.4 1.4 0.2]\n",
            " [4.7 3.2 1.6 0.2]\n",
            " [4.8 3.1 1.6 0.2]\n",
            " [5.4 3.4 1.5 0.4]\n",
            " [5.2 4.1 1.5 0.1]\n",
            " [5.5 4.2 1.4 0.2]\n",
            " [4.9 3.1 1.5 0.1]\n",
            " [5.  3.2 1.2 0.2]\n",
            " [5.5 3.5 1.3 0.2]\n",
            " [4.9 3.1 1.5 0.1]\n",
            " [4.4 3.  1.3 0.2]\n",
            " [5.1 3.4 1.5 0.2]\n",
            " [5.  3.5 1.3 0.3]\n",
            " [4.5 2.3 1.3 0.3]\n",
            " [4.4 3.2 1.3 0.2]\n",
            " [5.  3.5 1.6 0.6]\n",
            " [5.1 3.8 1.9 0.4]\n",
            " [4.8 3.  1.4 0.3]\n",
            " [5.1 3.8 1.6 0.2]\n",
            " [4.6 3.2 1.4 0.2]\n",
            " [5.3 3.7 1.5 0.2]\n",
            " [5.  3.3 1.4 0.2]\n",
            " [7.  3.2 4.7 1.4]\n",
            " [6.4 3.2 4.5 1.5]\n",
            " [6.9 3.1 4.9 1.5]\n",
            " [5.5 2.3 4.  1.3]\n",
            " [6.5 2.8 4.6 1.5]\n",
            " [5.7 2.8 4.5 1.3]\n",
            " [6.3 3.3 4.7 1.6]\n",
            " [4.9 2.4 3.3 1. ]\n",
            " [6.6 2.9 4.6 1.3]\n",
            " [5.2 2.7 3.9 1.4]\n",
            " [5.  2.  3.5 1. ]\n",
            " [5.9 3.  4.2 1.5]\n",
            " [6.  2.2 4.  1. ]\n",
            " [6.1 2.9 4.7 1.4]\n",
            " [5.6 2.9 3.6 1.3]\n",
            " [6.7 3.1 4.4 1.4]\n",
            " [5.6 3.  4.5 1.5]\n",
            " [5.8 2.7 4.1 1. ]\n",
            " [6.2 2.2 4.5 1.5]\n",
            " [5.6 2.5 3.9 1.1]\n",
            " [5.9 3.2 4.8 1.8]\n",
            " [6.1 2.8 4.  1.3]\n",
            " [6.3 2.5 4.9 1.5]\n",
            " [6.1 2.8 4.7 1.2]\n",
            " [6.4 2.9 4.3 1.3]\n",
            " [6.6 3.  4.4 1.4]\n",
            " [6.8 2.8 4.8 1.4]\n",
            " [6.7 3.  5.  1.7]\n",
            " [6.  2.9 4.5 1.5]\n",
            " [5.7 2.6 3.5 1. ]\n",
            " [5.5 2.4 3.8 1.1]\n",
            " [5.5 2.4 3.7 1. ]\n",
            " [5.8 2.7 3.9 1.2]\n",
            " [6.  2.7 5.1 1.6]\n",
            " [5.4 3.  4.5 1.5]\n",
            " [6.  3.4 4.5 1.6]\n",
            " [6.7 3.1 4.7 1.5]\n",
            " [6.3 2.3 4.4 1.3]\n",
            " [5.6 3.  4.1 1.3]\n",
            " [5.5 2.5 4.  1.3]\n",
            " [5.5 2.6 4.4 1.2]\n",
            " [6.1 3.  4.6 1.4]\n",
            " [5.8 2.6 4.  1.2]\n",
            " [5.  2.3 3.3 1. ]\n",
            " [5.6 2.7 4.2 1.3]\n",
            " [5.7 3.  4.2 1.2]\n",
            " [5.7 2.9 4.2 1.3]\n",
            " [6.2 2.9 4.3 1.3]\n",
            " [5.1 2.5 3.  1.1]\n",
            " [5.7 2.8 4.1 1.3]\n",
            " [6.3 3.3 6.  2.5]\n",
            " [5.8 2.7 5.1 1.9]\n",
            " [7.1 3.  5.9 2.1]\n",
            " [6.3 2.9 5.6 1.8]\n",
            " [6.5 3.  5.8 2.2]\n",
            " [7.6 3.  6.6 2.1]\n",
            " [4.9 2.5 4.5 1.7]\n",
            " [7.3 2.9 6.3 1.8]\n",
            " [6.7 2.5 5.8 1.8]\n",
            " [7.2 3.6 6.1 2.5]\n",
            " [6.5 3.2 5.1 2. ]\n",
            " [6.4 2.7 5.3 1.9]\n",
            " [6.8 3.  5.5 2.1]\n",
            " [5.7 2.5 5.  2. ]\n",
            " [5.8 2.8 5.1 2.4]\n",
            " [6.4 3.2 5.3 2.3]\n",
            " [6.5 3.  5.5 1.8]\n",
            " [7.7 3.8 6.7 2.2]\n",
            " [7.7 2.6 6.9 2.3]\n",
            " [6.  2.2 5.  1.5]\n",
            " [6.9 3.2 5.7 2.3]\n",
            " [5.6 2.8 4.9 2. ]\n",
            " [7.7 2.8 6.7 2. ]\n",
            " [6.3 2.7 4.9 1.8]\n",
            " [6.7 3.3 5.7 2.1]\n",
            " [7.2 3.2 6.  1.8]\n",
            " [6.2 2.8 4.8 1.8]\n",
            " [6.1 3.  4.9 1.8]\n",
            " [6.4 2.8 5.6 2.1]\n",
            " [7.2 3.  5.8 1.6]\n",
            " [7.4 2.8 6.1 1.9]\n",
            " [7.9 3.8 6.4 2. ]\n",
            " [6.4 2.8 5.6 2.2]\n",
            " [6.3 2.8 5.1 1.5]\n",
            " [6.1 2.6 5.6 1.4]\n",
            " [7.7 3.  6.1 2.3]\n",
            " [6.3 3.4 5.6 2.4]\n",
            " [6.4 3.1 5.5 1.8]\n",
            " [6.  3.  4.8 1.8]\n",
            " [6.9 3.1 5.4 2.1]\n",
            " [6.7 3.1 5.6 2.4]\n",
            " [6.9 3.1 5.1 2.3]\n",
            " [5.8 2.7 5.1 1.9]\n",
            " [6.8 3.2 5.9 2.3]\n",
            " [6.7 3.3 5.7 2.5]\n",
            " [6.7 3.  5.2 2.3]\n",
            " [6.3 2.5 5.  1.9]\n",
            " [6.5 3.  5.2 2. ]\n",
            " [6.2 3.4 5.4 2.3]\n",
            " [5.9 3.  5.1 1.8]]\n",
            "Class Target Dataset :\n",
            "['Iris-setosa' 'Iris-setosa' 'Iris-setosa' 'Iris-setosa' 'Iris-setosa'\n",
            " 'Iris-setosa' 'Iris-setosa' 'Iris-setosa' 'Iris-setosa' 'Iris-setosa'\n",
            " 'Iris-setosa' 'Iris-setosa' 'Iris-setosa' 'Iris-setosa' 'Iris-setosa'\n",
            " 'Iris-setosa' 'Iris-setosa' 'Iris-setosa' 'Iris-setosa' 'Iris-setosa'\n",
            " 'Iris-setosa' 'Iris-setosa' 'Iris-setosa' 'Iris-setosa' 'Iris-setosa'\n",
            " 'Iris-setosa' 'Iris-setosa' 'Iris-setosa' 'Iris-setosa' 'Iris-setosa'\n",
            " 'Iris-setosa' 'Iris-setosa' 'Iris-setosa' 'Iris-setosa' 'Iris-setosa'\n",
            " 'Iris-setosa' 'Iris-setosa' 'Iris-setosa' 'Iris-setosa' 'Iris-setosa'\n",
            " 'Iris-setosa' 'Iris-setosa' 'Iris-setosa' 'Iris-setosa' 'Iris-setosa'\n",
            " 'Iris-setosa' 'Iris-setosa' 'Iris-setosa' 'Iris-setosa' 'Iris-setosa'\n",
            " 'Iris-versicolor' 'Iris-versicolor' 'Iris-versicolor' 'Iris-versicolor'\n",
            " 'Iris-versicolor' 'Iris-versicolor' 'Iris-versicolor' 'Iris-versicolor'\n",
            " 'Iris-versicolor' 'Iris-versicolor' 'Iris-versicolor' 'Iris-versicolor'\n",
            " 'Iris-versicolor' 'Iris-versicolor' 'Iris-versicolor' 'Iris-versicolor'\n",
            " 'Iris-versicolor' 'Iris-versicolor' 'Iris-versicolor' 'Iris-versicolor'\n",
            " 'Iris-versicolor' 'Iris-versicolor' 'Iris-versicolor' 'Iris-versicolor'\n",
            " 'Iris-versicolor' 'Iris-versicolor' 'Iris-versicolor' 'Iris-versicolor'\n",
            " 'Iris-versicolor' 'Iris-versicolor' 'Iris-versicolor' 'Iris-versicolor'\n",
            " 'Iris-versicolor' 'Iris-versicolor' 'Iris-versicolor' 'Iris-versicolor'\n",
            " 'Iris-versicolor' 'Iris-versicolor' 'Iris-versicolor' 'Iris-versicolor'\n",
            " 'Iris-versicolor' 'Iris-versicolor' 'Iris-versicolor' 'Iris-versicolor'\n",
            " 'Iris-versicolor' 'Iris-versicolor' 'Iris-versicolor' 'Iris-versicolor'\n",
            " 'Iris-versicolor' 'Iris-versicolor' 'Iris-virginica' 'Iris-virginica'\n",
            " 'Iris-virginica' 'Iris-virginica' 'Iris-virginica' 'Iris-virginica'\n",
            " 'Iris-virginica' 'Iris-virginica' 'Iris-virginica' 'Iris-virginica'\n",
            " 'Iris-virginica' 'Iris-virginica' 'Iris-virginica' 'Iris-virginica'\n",
            " 'Iris-virginica' 'Iris-virginica' 'Iris-virginica' 'Iris-virginica'\n",
            " 'Iris-virginica' 'Iris-virginica' 'Iris-virginica' 'Iris-virginica'\n",
            " 'Iris-virginica' 'Iris-virginica' 'Iris-virginica' 'Iris-virginica'\n",
            " 'Iris-virginica' 'Iris-virginica' 'Iris-virginica' 'Iris-virginica'\n",
            " 'Iris-virginica' 'Iris-virginica' 'Iris-virginica' 'Iris-virginica'\n",
            " 'Iris-virginica' 'Iris-virginica' 'Iris-virginica' 'Iris-virginica'\n",
            " 'Iris-virginica' 'Iris-virginica' 'Iris-virginica' 'Iris-virginica'\n",
            " 'Iris-virginica' 'Iris-virginica' 'Iris-virginica' 'Iris-virginica'\n",
            " 'Iris-virginica' 'Iris-virginica' 'Iris-virginica' 'Iris-virginica']\n"
          ]
        }
      ],
      "source": [
        "#Memisahkan atribut dengan target class\n",
        "x = irisDataset.iloc[:, 1:5].values\n",
        "y = irisDataset['Species'].values\n",
        "print(\"Atribut Dataset :\")\n",
        "print(x)\n",
        "print(\"Class Target Dataset :\")\n",
        "print(y)"
      ]
    },
    {
      "cell_type": "code",
      "execution_count": 9,
      "metadata": {
        "colab": {
          "base_uri": "https://localhost:8080/"
        },
        "id": "jKeBCufoMx6A",
        "outputId": "b22f5c44-d360-4af9-aa4d-af2e3e4ab5df"
      },
      "outputs": [
        {
          "name": "stdout",
          "output_type": "stream",
          "text": [
            "Data Training :\n",
            "[[4.6 3.6 1.  0.2]\n",
            " [5.7 4.4 1.5 0.4]\n",
            " [6.7 3.1 4.4 1.4]\n",
            " [4.8 3.4 1.6 0.2]\n",
            " [4.4 3.2 1.3 0.2]\n",
            " [6.3 2.5 5.  1.9]\n",
            " [6.4 3.2 4.5 1.5]\n",
            " [5.2 3.5 1.5 0.2]\n",
            " [5.  3.6 1.4 0.2]\n",
            " [5.2 4.1 1.5 0.1]\n",
            " [5.8 2.7 5.1 1.9]\n",
            " [6.  3.4 4.5 1.6]\n",
            " [6.7 3.1 4.7 1.5]\n",
            " [5.4 3.9 1.3 0.4]\n",
            " [5.4 3.7 1.5 0.2]\n",
            " [5.5 2.4 3.7 1. ]\n",
            " [6.3 2.8 5.1 1.5]\n",
            " [6.4 3.1 5.5 1.8]\n",
            " [6.6 3.  4.4 1.4]\n",
            " [7.2 3.6 6.1 2.5]\n",
            " [5.7 2.9 4.2 1.3]\n",
            " [7.6 3.  6.6 2.1]\n",
            " [5.6 3.  4.5 1.5]\n",
            " [5.1 3.5 1.4 0.2]\n",
            " [7.7 2.8 6.7 2. ]\n",
            " [5.8 2.7 4.1 1. ]\n",
            " [5.2 3.4 1.4 0.2]\n",
            " [5.  3.5 1.3 0.3]\n",
            " [5.1 3.8 1.9 0.4]\n",
            " [5.  2.  3.5 1. ]\n",
            " [6.3 2.7 4.9 1.8]\n",
            " [4.8 3.4 1.9 0.2]\n",
            " [5.  3.  1.6 0.2]\n",
            " [5.1 3.3 1.7 0.5]\n",
            " [5.6 2.7 4.2 1.3]\n",
            " [5.1 3.4 1.5 0.2]\n",
            " [5.7 3.  4.2 1.2]\n",
            " [7.7 3.8 6.7 2.2]\n",
            " [4.6 3.2 1.4 0.2]\n",
            " [6.2 2.9 4.3 1.3]\n",
            " [5.7 2.5 5.  2. ]\n",
            " [5.5 4.2 1.4 0.2]\n",
            " [6.  3.  4.8 1.8]\n",
            " [5.8 2.7 5.1 1.9]\n",
            " [6.  2.2 4.  1. ]\n",
            " [5.4 3.  4.5 1.5]\n",
            " [6.2 3.4 5.4 2.3]\n",
            " [5.5 2.3 4.  1.3]\n",
            " [5.4 3.9 1.7 0.4]\n",
            " [5.  2.3 3.3 1. ]\n",
            " [6.4 2.7 5.3 1.9]\n",
            " [5.  3.3 1.4 0.2]\n",
            " [5.  3.2 1.2 0.2]\n",
            " [5.5 2.4 3.8 1.1]\n",
            " [6.7 3.  5.  1.7]\n",
            " [4.9 3.1 1.5 0.1]\n",
            " [5.8 2.8 5.1 2.4]\n",
            " [5.  3.4 1.5 0.2]\n",
            " [5.  3.5 1.6 0.6]\n",
            " [5.9 3.2 4.8 1.8]\n",
            " [5.1 2.5 3.  1.1]\n",
            " [6.9 3.2 5.7 2.3]\n",
            " [6.  2.7 5.1 1.6]\n",
            " [6.1 2.6 5.6 1.4]\n",
            " [7.7 3.  6.1 2.3]\n",
            " [5.5 2.5 4.  1.3]\n",
            " [4.4 2.9 1.4 0.2]\n",
            " [4.3 3.  1.1 0.1]\n",
            " [6.  2.2 5.  1.5]\n",
            " [7.2 3.2 6.  1.8]\n",
            " [4.6 3.1 1.5 0.2]\n",
            " [5.1 3.5 1.4 0.3]\n",
            " [4.4 3.  1.3 0.2]\n",
            " [6.3 2.5 4.9 1.5]\n",
            " [6.3 3.4 5.6 2.4]\n",
            " [4.6 3.4 1.4 0.3]\n",
            " [6.8 3.  5.5 2.1]\n",
            " [6.3 3.3 6.  2.5]\n",
            " [4.7 3.2 1.3 0.2]\n",
            " [6.1 2.9 4.7 1.4]\n",
            " [6.5 2.8 4.6 1.5]\n",
            " [6.2 2.8 4.8 1.8]\n",
            " [7.  3.2 4.7 1.4]\n",
            " [6.4 3.2 5.3 2.3]\n",
            " [5.1 3.8 1.6 0.2]\n",
            " [6.9 3.1 5.4 2.1]\n",
            " [5.9 3.  4.2 1.5]\n",
            " [6.5 3.  5.2 2. ]\n",
            " [5.7 2.6 3.5 1. ]\n",
            " [5.2 2.7 3.9 1.4]\n",
            " [6.1 3.  4.6 1.4]\n",
            " [4.5 2.3 1.3 0.3]\n",
            " [6.6 2.9 4.6 1.3]\n",
            " [5.5 2.6 4.4 1.2]\n",
            " [5.3 3.7 1.5 0.2]\n",
            " [5.6 3.  4.1 1.3]\n",
            " [7.3 2.9 6.3 1.8]\n",
            " [6.7 3.3 5.7 2.1]\n",
            " [5.1 3.7 1.5 0.4]\n",
            " [4.9 2.4 3.3 1. ]\n",
            " [6.7 3.3 5.7 2.5]\n",
            " [7.2 3.  5.8 1.6]\n",
            " [4.9 3.1 1.5 0.1]\n",
            " [6.7 3.1 5.6 2.4]\n",
            " [4.9 3.  1.4 0.2]\n",
            " [6.9 3.1 4.9 1.5]\n",
            " [7.4 2.8 6.1 1.9]\n",
            " [6.3 2.9 5.6 1.8]\n",
            " [5.7 2.8 4.1 1.3]\n",
            " [6.5 3.  5.5 1.8]\n",
            " [6.3 2.3 4.4 1.3]\n",
            " [6.4 2.9 4.3 1.3]\n",
            " [5.6 2.8 4.9 2. ]\n",
            " [5.9 3.  5.1 1.8]\n",
            " [5.4 3.4 1.7 0.2]\n",
            " [6.1 2.8 4.  1.3]\n",
            " [4.9 2.5 4.5 1.7]\n",
            " [5.8 4.  1.2 0.2]\n",
            " [5.8 2.6 4.  1.2]\n",
            " [7.1 3.  5.9 2.1]]\n",
            "120\n",
            "Label Data Training :\n",
            "['Iris-setosa' 'Iris-setosa' 'Iris-versicolor' 'Iris-setosa' 'Iris-setosa'\n",
            " 'Iris-virginica' 'Iris-versicolor' 'Iris-setosa' 'Iris-setosa'\n",
            " 'Iris-setosa' 'Iris-virginica' 'Iris-versicolor' 'Iris-versicolor'\n",
            " 'Iris-setosa' 'Iris-setosa' 'Iris-versicolor' 'Iris-virginica'\n",
            " 'Iris-virginica' 'Iris-versicolor' 'Iris-virginica' 'Iris-versicolor'\n",
            " 'Iris-virginica' 'Iris-versicolor' 'Iris-setosa' 'Iris-virginica'\n",
            " 'Iris-versicolor' 'Iris-setosa' 'Iris-setosa' 'Iris-setosa'\n",
            " 'Iris-versicolor' 'Iris-virginica' 'Iris-setosa' 'Iris-setosa'\n",
            " 'Iris-setosa' 'Iris-versicolor' 'Iris-setosa' 'Iris-versicolor'\n",
            " 'Iris-virginica' 'Iris-setosa' 'Iris-versicolor' 'Iris-virginica'\n",
            " 'Iris-setosa' 'Iris-virginica' 'Iris-virginica' 'Iris-versicolor'\n",
            " 'Iris-versicolor' 'Iris-virginica' 'Iris-versicolor' 'Iris-setosa'\n",
            " 'Iris-versicolor' 'Iris-virginica' 'Iris-setosa' 'Iris-setosa'\n",
            " 'Iris-versicolor' 'Iris-versicolor' 'Iris-setosa' 'Iris-virginica'\n",
            " 'Iris-setosa' 'Iris-setosa' 'Iris-versicolor' 'Iris-versicolor'\n",
            " 'Iris-virginica' 'Iris-versicolor' 'Iris-virginica' 'Iris-virginica'\n",
            " 'Iris-versicolor' 'Iris-setosa' 'Iris-setosa' 'Iris-virginica'\n",
            " 'Iris-virginica' 'Iris-setosa' 'Iris-setosa' 'Iris-setosa'\n",
            " 'Iris-versicolor' 'Iris-virginica' 'Iris-setosa' 'Iris-virginica'\n",
            " 'Iris-virginica' 'Iris-setosa' 'Iris-versicolor' 'Iris-versicolor'\n",
            " 'Iris-virginica' 'Iris-versicolor' 'Iris-virginica' 'Iris-setosa'\n",
            " 'Iris-virginica' 'Iris-versicolor' 'Iris-virginica' 'Iris-versicolor'\n",
            " 'Iris-versicolor' 'Iris-versicolor' 'Iris-setosa' 'Iris-versicolor'\n",
            " 'Iris-versicolor' 'Iris-setosa' 'Iris-versicolor' 'Iris-virginica'\n",
            " 'Iris-virginica' 'Iris-setosa' 'Iris-versicolor' 'Iris-virginica'\n",
            " 'Iris-virginica' 'Iris-setosa' 'Iris-virginica' 'Iris-setosa'\n",
            " 'Iris-versicolor' 'Iris-virginica' 'Iris-virginica' 'Iris-versicolor'\n",
            " 'Iris-virginica' 'Iris-versicolor' 'Iris-versicolor' 'Iris-virginica'\n",
            " 'Iris-virginica' 'Iris-setosa' 'Iris-versicolor' 'Iris-virginica'\n",
            " 'Iris-setosa' 'Iris-versicolor' 'Iris-virginica']\n",
            "120\n",
            "Data Testing :\n",
            "[[6.1 2.8 4.7 1.2]\n",
            " [5.7 3.8 1.7 0.3]\n",
            " [7.7 2.6 6.9 2.3]\n",
            " [6.  2.9 4.5 1.5]\n",
            " [6.8 2.8 4.8 1.4]\n",
            " [5.4 3.4 1.5 0.4]\n",
            " [5.6 2.9 3.6 1.3]\n",
            " [6.9 3.1 5.1 2.3]\n",
            " [6.2 2.2 4.5 1.5]\n",
            " [5.8 2.7 3.9 1.2]\n",
            " [6.5 3.2 5.1 2. ]\n",
            " [4.8 3.  1.4 0.1]\n",
            " [5.5 3.5 1.3 0.2]\n",
            " [4.9 3.1 1.5 0.1]\n",
            " [5.1 3.8 1.5 0.3]\n",
            " [6.3 3.3 4.7 1.6]\n",
            " [6.5 3.  5.8 2.2]\n",
            " [5.6 2.5 3.9 1.1]\n",
            " [5.7 2.8 4.5 1.3]\n",
            " [6.4 2.8 5.6 2.2]\n",
            " [4.7 3.2 1.6 0.2]\n",
            " [6.1 3.  4.9 1.8]\n",
            " [5.  3.4 1.6 0.4]\n",
            " [6.4 2.8 5.6 2.1]\n",
            " [7.9 3.8 6.4 2. ]\n",
            " [6.7 3.  5.2 2.3]\n",
            " [6.7 2.5 5.8 1.8]\n",
            " [6.8 3.2 5.9 2.3]\n",
            " [4.8 3.  1.4 0.3]\n",
            " [4.8 3.1 1.6 0.2]]\n",
            "30\n",
            "Label Data Testing :\n",
            "['Iris-versicolor' 'Iris-setosa' 'Iris-virginica' 'Iris-versicolor'\n",
            " 'Iris-versicolor' 'Iris-setosa' 'Iris-versicolor' 'Iris-virginica'\n",
            " 'Iris-versicolor' 'Iris-versicolor' 'Iris-virginica' 'Iris-setosa'\n",
            " 'Iris-setosa' 'Iris-setosa' 'Iris-setosa' 'Iris-versicolor'\n",
            " 'Iris-virginica' 'Iris-versicolor' 'Iris-versicolor' 'Iris-virginica'\n",
            " 'Iris-setosa' 'Iris-virginica' 'Iris-setosa' 'Iris-virginica'\n",
            " 'Iris-virginica' 'Iris-virginica' 'Iris-virginica' 'Iris-virginica'\n",
            " 'Iris-setosa' 'Iris-setosa']\n",
            "30\n"
          ]
        }
      ],
      "source": [
        "#Spliting data training dan data testing\n",
        "x_train, x_test, y_train, y_test = train_test_split(x, y, test_size=0.2, random_state=42)\n",
        "print(\"Data Training :\")\n",
        "print(x_train)\n",
        "print(len(x_train))\n",
        "print(\"Label Data Training :\")\n",
        "print(y_train)\n",
        "print(len(y_train))\n",
        "print(\"Data Testing :\")\n",
        "print(x_test)\n",
        "print(len(x_test))\n",
        "print(\"Label Data Testing :\")\n",
        "print(y_test)\n",
        "print(len(y_test))"
      ]
    },
    {
      "cell_type": "code",
      "execution_count": 10,
      "metadata": {
        "colab": {
          "base_uri": "https://localhost:8080/"
        },
        "id": "YqBjE9ZwM4Ro",
        "outputId": "6ee95638-ae34-41f5-c872-fc54d6c0bd82"
      },
      "outputs": [
        {
          "name": "stdout",
          "output_type": "stream",
          "text": [
            "Data Training Setelah Normalisasi Dataset :\n",
            "[[-1.47393679  1.22037928 -1.5639872  -1.30948358]\n",
            " [-0.13307079  3.02001693 -1.27728011 -1.04292204]\n",
            " [ 1.08589829  0.09560575  0.38562104  0.28988568]\n",
            " [-1.23014297  0.77046987 -1.21993869 -1.30948358]\n",
            " [-1.7177306   0.32056046 -1.39196294 -1.30948358]\n",
            " [ 0.59831066 -1.25412249  0.72966956  0.95628954]\n",
            " [ 0.72020757  0.32056046  0.44296246  0.42316645]\n",
            " [-0.74255534  0.99542457 -1.27728011 -1.30948358]\n",
            " [-0.98634915  1.22037928 -1.33462153 -1.30948358]\n",
            " [-0.74255534  2.34515281 -1.27728011 -1.44276436]\n",
            " [-0.01117388 -0.80421307  0.78701097  0.95628954]\n",
            " [ 0.23261993  0.77046987  0.44296246  0.55644722]\n",
            " [ 1.08589829  0.09560575  0.5576453   0.42316645]\n",
            " [-0.49876152  1.8952434  -1.39196294 -1.04292204]\n",
            " [-0.49876152  1.44533399 -1.27728011 -1.30948358]\n",
            " [-0.37686461 -1.47907719 -0.01576889 -0.24323741]\n",
            " [ 0.59831066 -0.57925837  0.78701097  0.42316645]\n",
            " [ 0.72020757  0.09560575  1.01637665  0.82300877]\n",
            " [ 0.96400139 -0.12934896  0.38562104  0.28988568]\n",
            " [ 1.69538284  1.22037928  1.36042516  1.75597417]\n",
            " [-0.13307079 -0.35430366  0.2709382   0.15660491]\n",
            " [ 2.18297047 -0.12934896  1.64713226  1.22285108]\n",
            " [-0.2549677  -0.12934896  0.44296246  0.42316645]\n",
            " [-0.86445224  0.99542457 -1.33462153 -1.30948358]\n",
            " [ 2.30486738 -0.57925837  1.70447368  1.08957031]\n",
            " [-0.01117388 -0.80421307  0.21359679 -0.24323741]\n",
            " [-0.74255534  0.77046987 -1.33462153 -1.30948358]\n",
            " [-0.98634915  0.99542457 -1.39196294 -1.17620281]\n",
            " [-0.86445224  1.67028869 -1.04791443 -1.04292204]\n",
            " [-0.98634915 -2.37889602 -0.13045173 -0.24323741]\n",
            " [ 0.59831066 -0.80421307  0.67232814  0.82300877]\n",
            " [-1.23014297  0.77046987 -1.04791443 -1.30948358]\n",
            " [-0.98634915 -0.12934896 -1.21993869 -1.30948358]\n",
            " [-0.86445224  0.54551516 -1.16259727 -0.90964127]\n",
            " [-0.2549677  -0.80421307  0.2709382   0.15660491]\n",
            " [-0.86445224  0.77046987 -1.27728011 -1.30948358]\n",
            " [-0.13307079 -0.12934896  0.2709382   0.02332414]\n",
            " [ 2.30486738  1.67028869  1.70447368  1.35613185]\n",
            " [-1.47393679  0.32056046 -1.33462153 -1.30948358]\n",
            " [ 0.47641375 -0.35430366  0.32827962  0.15660491]\n",
            " [-0.13307079 -1.25412249  0.72966956  1.08957031]\n",
            " [-0.37686461  2.57010752 -1.33462153 -1.30948358]\n",
            " [ 0.23261993 -0.12934896  0.61498672  0.82300877]\n",
            " [-0.01117388 -0.80421307  0.78701097  0.95628954]\n",
            " [ 0.23261993 -1.9289866   0.15625537 -0.24323741]\n",
            " [-0.49876152 -0.12934896  0.44296246  0.42316645]\n",
            " [ 0.47641375  0.77046987  0.95903523  1.48941263]\n",
            " [-0.37686461 -1.7040319   0.15625537  0.15660491]\n",
            " [-0.49876152  1.8952434  -1.16259727 -1.04292204]\n",
            " [-0.98634915 -1.7040319  -0.24513457 -0.24323741]\n",
            " [ 0.72020757 -0.80421307  0.90169381  0.95628954]\n",
            " [-0.98634915  0.54551516 -1.33462153 -1.30948358]\n",
            " [-0.98634915  0.32056046 -1.44930436 -1.30948358]\n",
            " [-0.37686461 -1.47907719  0.04157253 -0.10995664]\n",
            " [ 1.08589829 -0.12934896  0.72966956  0.68972799]\n",
            " [-1.10824606  0.09560575 -1.27728011 -1.44276436]\n",
            " [-0.01117388 -0.57925837  0.78701097  1.6226934 ]\n",
            " [-0.98634915  0.77046987 -1.27728011 -1.30948358]\n",
            " [-0.98634915  0.99542457 -1.21993869 -0.7763605 ]\n",
            " [ 0.11072303  0.32056046  0.61498672  0.82300877]\n",
            " [-0.86445224 -1.25412249 -0.41715882 -0.10995664]\n",
            " [ 1.32969211  0.32056046  1.13105949  1.48941263]\n",
            " [ 0.23261993 -0.80421307  0.78701097  0.55644722]\n",
            " [ 0.35451684 -1.02916778  1.07371807  0.28988568]\n",
            " [ 2.30486738 -0.12934896  1.36042516  1.48941263]\n",
            " [-0.37686461 -1.25412249  0.15625537  0.15660491]\n",
            " [-1.7177306  -0.35430366 -1.33462153 -1.30948358]\n",
            " [-1.83962751 -0.12934896 -1.50664578 -1.44276436]\n",
            " [ 0.23261993 -1.9289866   0.72966956  0.42316645]\n",
            " [ 1.69538284  0.32056046  1.30308374  0.82300877]\n",
            " [-1.47393679  0.09560575 -1.27728011 -1.30948358]\n",
            " [-0.86445224  0.99542457 -1.33462153 -1.17620281]\n",
            " [-1.7177306  -0.12934896 -1.39196294 -1.30948358]\n",
            " [ 0.59831066 -1.25412249  0.67232814  0.42316645]\n",
            " [ 0.59831066  0.77046987  1.07371807  1.6226934 ]\n",
            " [-1.47393679  0.77046987 -1.33462153 -1.17620281]\n",
            " [ 1.2077952  -0.12934896  1.01637665  1.22285108]\n",
            " [ 0.59831066  0.54551516  1.30308374  1.75597417]\n",
            " [-1.35203988  0.32056046 -1.39196294 -1.30948358]\n",
            " [ 0.35451684 -0.35430366  0.5576453   0.28988568]\n",
            " [ 0.84210448 -0.57925837  0.50030388  0.42316645]\n",
            " [ 0.47641375 -0.57925837  0.61498672  0.82300877]\n",
            " [ 1.45158902  0.32056046  0.5576453   0.28988568]\n",
            " [ 0.72020757  0.32056046  0.90169381  1.48941263]\n",
            " [-0.86445224  1.67028869 -1.21993869 -1.30948358]\n",
            " [ 1.32969211  0.09560575  0.95903523  1.22285108]\n",
            " [ 0.11072303 -0.12934896  0.2709382   0.42316645]\n",
            " [ 0.84210448 -0.12934896  0.84435239  1.08957031]\n",
            " [-0.13307079 -1.02916778 -0.13045173 -0.24323741]\n",
            " [-0.74255534 -0.80421307  0.09891395  0.28988568]\n",
            " [ 0.35451684 -0.12934896  0.50030388  0.28988568]\n",
            " [-1.5958337  -1.7040319  -1.39196294 -1.17620281]\n",
            " [ 0.96400139 -0.35430366  0.50030388  0.15660491]\n",
            " [-0.37686461 -1.02916778  0.38562104  0.02332414]\n",
            " [-0.62065843  1.44533399 -1.27728011 -1.30948358]\n",
            " [-0.2549677  -0.12934896  0.21359679  0.15660491]\n",
            " [ 1.81727975 -0.35430366  1.475108    0.82300877]\n",
            " [ 1.08589829  0.54551516  1.13105949  1.22285108]\n",
            " [-0.86445224  1.44533399 -1.27728011 -1.04292204]\n",
            " [-1.10824606 -1.47907719 -0.24513457 -0.24323741]\n",
            " [ 1.08589829  0.54551516  1.13105949  1.75597417]\n",
            " [ 1.69538284 -0.12934896  1.18840091  0.55644722]\n",
            " [-1.10824606  0.09560575 -1.27728011 -1.44276436]\n",
            " [ 1.08589829  0.09560575  1.07371807  1.6226934 ]\n",
            " [-1.10824606 -0.12934896 -1.33462153 -1.30948358]\n",
            " [ 1.32969211  0.09560575  0.67232814  0.42316645]\n",
            " [ 1.93917666 -0.57925837  1.36042516  0.95628954]\n",
            " [ 0.59831066 -0.35430366  1.07371807  0.82300877]\n",
            " [-0.13307079 -0.57925837  0.21359679  0.15660491]\n",
            " [ 0.84210448 -0.12934896  1.01637665  0.82300877]\n",
            " [ 0.59831066 -1.7040319   0.38562104  0.15660491]\n",
            " [ 0.72020757 -0.35430366  0.32827962  0.15660491]\n",
            " [-0.2549677  -0.57925837  0.67232814  1.08957031]\n",
            " [ 0.11072303 -0.12934896  0.78701097  0.82300877]\n",
            " [-0.49876152  0.77046987 -1.16259727 -1.30948358]\n",
            " [ 0.35451684 -0.57925837  0.15625537  0.15660491]\n",
            " [-1.10824606 -1.25412249  0.44296246  0.68972799]\n",
            " [-0.01117388  2.1201981  -1.44930436 -1.30948358]\n",
            " [-0.01117388 -1.02916778  0.15625537  0.02332414]\n",
            " [ 1.57348593 -0.12934896  1.24574233  1.22285108]]\n",
            "Data Testing Setelah Normalisasi Dataset :\n",
            "[[ 0.35451684 -0.57925837  0.5576453   0.02332414]\n",
            " [-0.13307079  1.67028869 -1.16259727 -1.17620281]\n",
            " [ 2.30486738 -1.02916778  1.81915651  1.48941263]\n",
            " [ 0.23261993 -0.35430366  0.44296246  0.42316645]\n",
            " [ 1.2077952  -0.57925837  0.61498672  0.28988568]\n",
            " [-0.49876152  0.77046987 -1.27728011 -1.04292204]\n",
            " [-0.2549677  -0.35430366 -0.07311031  0.15660491]\n",
            " [ 1.32969211  0.09560575  0.78701097  1.48941263]\n",
            " [ 0.47641375 -1.9289866   0.44296246  0.42316645]\n",
            " [-0.01117388 -0.80421307  0.09891395  0.02332414]\n",
            " [ 0.84210448  0.32056046  0.78701097  1.08957031]\n",
            " [-1.23014297 -0.12934896 -1.33462153 -1.44276436]\n",
            " [-0.37686461  0.99542457 -1.39196294 -1.30948358]\n",
            " [-1.10824606  0.09560575 -1.27728011 -1.44276436]\n",
            " [-0.86445224  1.67028869 -1.27728011 -1.17620281]\n",
            " [ 0.59831066  0.54551516  0.5576453   0.55644722]\n",
            " [ 0.84210448 -0.12934896  1.18840091  1.35613185]\n",
            " [-0.2549677  -1.25412249  0.09891395 -0.10995664]\n",
            " [-0.13307079 -0.57925837  0.44296246  0.15660491]\n",
            " [ 0.72020757 -0.57925837  1.07371807  1.35613185]\n",
            " [-1.35203988  0.32056046 -1.21993869 -1.30948358]\n",
            " [ 0.35451684 -0.12934896  0.67232814  0.82300877]\n",
            " [-0.98634915  0.77046987 -1.21993869 -1.04292204]\n",
            " [ 0.72020757 -0.57925837  1.07371807  1.22285108]\n",
            " [ 2.5486612   1.67028869  1.53244942  1.08957031]\n",
            " [ 1.08589829 -0.12934896  0.84435239  1.48941263]\n",
            " [ 1.08589829 -1.25412249  1.18840091  0.82300877]\n",
            " [ 1.2077952   0.32056046  1.24574233  1.48941263]\n",
            " [-1.23014297 -0.12934896 -1.33462153 -1.17620281]\n",
            " [-1.23014297  0.09560575 -1.21993869 -1.30948358]]\n"
          ]
        }
      ],
      "source": [
        "#Normalisasi Dataset\n",
        "sc = StandardScaler()\n",
        "x_train = sc.fit_transform(x_train)\n",
        "x_test = sc.transform(x_test)\n",
        "print(\"Data Training Setelah Normalisasi Dataset :\")\n",
        "print(x_train)\n",
        "print(\"Data Testing Setelah Normalisasi Dataset :\")\n",
        "print(x_test)"
      ]
    },
    {
      "cell_type": "code",
      "execution_count": 11,
      "metadata": {
        "colab": {
          "base_uri": "https://localhost:8080/"
        },
        "id": "rwqk4DYRM9xP",
        "outputId": "305f07fc-0c35-4e07-b859-ba8b774ecb30"
      },
      "outputs": [
        {
          "name": "stdout",
          "output_type": "stream",
          "text": [
            "Proses Training Selesai!!\n"
          ]
        }
      ],
      "source": [
        "#Training Model\n",
        "model = KNeighborsClassifier(n_neighbors=3)\n",
        "model.fit(x_train, y_train)\n",
        "print(\"Proses Training Selesai!!\")"
      ]
    },
    {
      "cell_type": "code",
      "execution_count": 12,
      "metadata": {
        "colab": {
          "base_uri": "https://localhost:8080/"
        },
        "id": "60hofQ6QNFgL",
        "outputId": "a572a640-b0a6-49c7-b5a4-2e77f64a6541"
      },
      "outputs": [
        {
          "name": "stdout",
          "output_type": "stream",
          "text": [
            "Hasil Prediksi Data Testing Menggunakan KNN :\n",
            "['Iris-versicolor' 'Iris-setosa' 'Iris-virginica' 'Iris-versicolor'\n",
            " 'Iris-versicolor' 'Iris-setosa' 'Iris-versicolor' 'Iris-virginica'\n",
            " 'Iris-versicolor' 'Iris-versicolor' 'Iris-virginica' 'Iris-setosa'\n",
            " 'Iris-setosa' 'Iris-setosa' 'Iris-setosa' 'Iris-versicolor'\n",
            " 'Iris-virginica' 'Iris-versicolor' 'Iris-versicolor' 'Iris-virginica'\n",
            " 'Iris-setosa' 'Iris-virginica' 'Iris-setosa' 'Iris-virginica'\n",
            " 'Iris-virginica' 'Iris-virginica' 'Iris-virginica' 'Iris-virginica'\n",
            " 'Iris-setosa' 'Iris-setosa']\n"
          ]
        }
      ],
      "source": [
        "#Melakukan testing terhadap model\n",
        "y_pred = model.predict(x_test)\n",
        "print(\"Hasil Prediksi Data Testing Menggunakan KNN :\")\n",
        "print(y_pred)"
      ]
    },
    {
      "cell_type": "code",
      "execution_count": 13,
      "metadata": {
        "colab": {
          "base_uri": "https://localhost:8080/"
        },
        "id": "j2Ky7BmNNIHS",
        "outputId": "6822b8f3-2413-42fe-d7a6-677f36692ef1"
      },
      "outputs": [
        {
          "name": "stdout",
          "output_type": "stream",
          "text": [
            "        Real Values Predicted Values\n",
            "0   Iris-versicolor  Iris-versicolor\n",
            "1       Iris-setosa      Iris-setosa\n",
            "2    Iris-virginica   Iris-virginica\n",
            "3   Iris-versicolor  Iris-versicolor\n",
            "4   Iris-versicolor  Iris-versicolor\n",
            "5       Iris-setosa      Iris-setosa\n",
            "6   Iris-versicolor  Iris-versicolor\n",
            "7    Iris-virginica   Iris-virginica\n",
            "8   Iris-versicolor  Iris-versicolor\n",
            "9   Iris-versicolor  Iris-versicolor\n",
            "10   Iris-virginica   Iris-virginica\n",
            "11      Iris-setosa      Iris-setosa\n",
            "12      Iris-setosa      Iris-setosa\n",
            "13      Iris-setosa      Iris-setosa\n",
            "14      Iris-setosa      Iris-setosa\n",
            "15  Iris-versicolor  Iris-versicolor\n",
            "16   Iris-virginica   Iris-virginica\n",
            "17  Iris-versicolor  Iris-versicolor\n",
            "18  Iris-versicolor  Iris-versicolor\n",
            "19   Iris-virginica   Iris-virginica\n",
            "20      Iris-setosa      Iris-setosa\n",
            "21   Iris-virginica   Iris-virginica\n",
            "22      Iris-setosa      Iris-setosa\n",
            "23   Iris-virginica   Iris-virginica\n",
            "24   Iris-virginica   Iris-virginica\n",
            "25   Iris-virginica   Iris-virginica\n",
            "26   Iris-virginica   Iris-virginica\n",
            "27   Iris-virginica   Iris-virginica\n",
            "28      Iris-setosa      Iris-setosa\n",
            "29      Iris-setosa      Iris-setosa\n"
          ]
        }
      ],
      "source": [
        "#Melakukan Perbandingan Hasil Prediksi Ladel dengan Data Label Asli\n",
        "compare = pd.DataFrame({'Real Values':y_test, 'Predicted Values':y_pred})\n",
        "print(compare)"
      ]
    },
    {
      "cell_type": "code",
      "execution_count": 14,
      "metadata": {
        "colab": {
          "base_uri": "https://localhost:8080/"
        },
        "id": "RVv69fYJNKT9",
        "outputId": "2a809cf4-b025-4340-8f10-15daf784826c"
      },
      "outputs": [
        {
          "name": "stdout",
          "output_type": "stream",
          "text": [
            "Prediksi Benar : 30 data\n",
            "Prediksi Salah : 0 data\n",
            "Akurasi Model : 1.0\n"
          ]
        }
      ],
      "source": [
        "#Hasil Akurasi Testing\n",
        "prediksiBenar = (y_pred == y_test).sum()\n",
        "prediksiSalah = (y_pred != y_test).sum()\n",
        "print(\"Prediksi Benar :\", prediksiBenar, \"data\")\n",
        "print(\"Prediksi Salah :\", prediksiSalah, \"data\")\n",
        "akurasi = prediksiBenar/(prediksiBenar+prediksiSalah)\n",
        "print(\"Akurasi Model :\", akurasi)"
      ]
    },
    {
      "cell_type": "code",
      "execution_count": 15,
      "metadata": {
        "colab": {
          "base_uri": "https://localhost:8080/",
          "height": 143
        },
        "id": "wOrQWCxmNMpJ",
        "outputId": "1454728a-5922-4025-a171-f015c9a0e394"
      },
      "outputs": [
        {
          "data": {
            "text/html": [
              "<div>\n",
              "<style scoped>\n",
              "    .dataframe tbody tr th:only-of-type {\n",
              "        vertical-align: middle;\n",
              "    }\n",
              "\n",
              "    .dataframe tbody tr th {\n",
              "        vertical-align: top;\n",
              "    }\n",
              "\n",
              "    .dataframe thead th {\n",
              "        text-align: right;\n",
              "    }\n",
              "</style>\n",
              "<table border=\"1\" class=\"dataframe\">\n",
              "  <thead>\n",
              "    <tr style=\"text-align: right;\">\n",
              "      <th></th>\n",
              "      <th>Pred : Iris-sentosa</th>\n",
              "      <th>Pred : Iris-versicolor</th>\n",
              "      <th>Pred : Iris-virginica</th>\n",
              "    </tr>\n",
              "  </thead>\n",
              "  <tbody>\n",
              "    <tr>\n",
              "      <th>True : Iris-sentosa</th>\n",
              "      <td>10</td>\n",
              "      <td>0</td>\n",
              "      <td>0</td>\n",
              "    </tr>\n",
              "    <tr>\n",
              "      <th>True : Iris-versicolor</th>\n",
              "      <td>0</td>\n",
              "      <td>9</td>\n",
              "      <td>0</td>\n",
              "    </tr>\n",
              "    <tr>\n",
              "      <th>True : Iris-virginica</th>\n",
              "      <td>0</td>\n",
              "      <td>0</td>\n",
              "      <td>11</td>\n",
              "    </tr>\n",
              "  </tbody>\n",
              "</table>\n",
              "</div>"
            ],
            "text/plain": [
              "                        Pred : Iris-sentosa  Pred : Iris-versicolor  \\\n",
              "True : Iris-sentosa                      10                       0   \n",
              "True : Iris-versicolor                    0                       9   \n",
              "True : Iris-virginica                     0                       0   \n",
              "\n",
              "                        Pred : Iris-virginica  \n",
              "True : Iris-sentosa                         0  \n",
              "True : Iris-versicolor                      0  \n",
              "True : Iris-virginica                      11  "
            ]
          },
          "execution_count": 15,
          "metadata": {},
          "output_type": "execute_result"
        }
      ],
      "source": [
        "#Confussion Matrix\n",
        "pd.DataFrame(\n",
        "    confusion_matrix(y_test, y_pred),\n",
        "    index=['True : Iris-sentosa', 'True : Iris-versicolor', 'True : Iris-virginica'],\n",
        "    columns=['Pred : Iris-sentosa', 'Pred : Iris-versicolor', 'Pred : Iris-virginica'],\n",
        ")"
      ]
    },
    {
      "cell_type": "code",
      "execution_count": 16,
      "metadata": {
        "colab": {
          "base_uri": "https://localhost:8080/"
        },
        "id": "jRIoBloOSc6y",
        "outputId": "15c1cad7-5676-44eb-b36f-fa1c8a22e8ee"
      },
      "outputs": [
        {
          "name": "stdout",
          "output_type": "stream",
          "text": [
            "                 precision    recall  f1-score   support\n",
            "\n",
            "    Iris-setosa       1.00      1.00      1.00        10\n",
            "Iris-versicolor       1.00      1.00      1.00         9\n",
            " Iris-virginica       1.00      1.00      1.00        11\n",
            "\n",
            "       accuracy                           1.00        30\n",
            "      macro avg       1.00      1.00      1.00        30\n",
            "   weighted avg       1.00      1.00      1.00        30\n",
            "\n"
          ]
        }
      ],
      "source": [
        "#Classification Report\n",
        "print(classification_report(y_test, y_pred))"
      ]
    },
    {
      "cell_type": "code",
      "execution_count": 17,
      "metadata": {
        "colab": {
          "base_uri": "https://localhost:8080/",
          "height": 276
        },
        "id": "jg53G44aTKHx",
        "outputId": "136da17c-0e46-4877-9b97-376722b97d72"
      },
      "outputs": [
        {
          "name": "stdout",
          "output_type": "stream",
          "text": [
            "Ukuran Data Hasil Prediksi :  (30,)\n",
            "Ukuran Data Atribut Data Latih :  (30, 4)\n",
            "Ukuran Reshape Data Hasil Prediksi :  (30, 1)\n",
            "Ukuran Data Latih :  (30, 5)\n"
          ]
        },
        {
          "data": {
            "text/html": [
              "<div>\n",
              "<style scoped>\n",
              "    .dataframe tbody tr th:only-of-type {\n",
              "        vertical-align: middle;\n",
              "    }\n",
              "\n",
              "    .dataframe tbody tr th {\n",
              "        vertical-align: top;\n",
              "    }\n",
              "\n",
              "    .dataframe thead th {\n",
              "        text-align: right;\n",
              "    }\n",
              "</style>\n",
              "<table border=\"1\" class=\"dataframe\">\n",
              "  <thead>\n",
              "    <tr style=\"text-align: right;\">\n",
              "      <th></th>\n",
              "      <th>Sepal Length (cm)</th>\n",
              "      <th>Sepal Width (cm)</th>\n",
              "      <th>Petal Length (cm)</th>\n",
              "      <th>Petal Width (cm)</th>\n",
              "      <th>Species</th>\n",
              "    </tr>\n",
              "  </thead>\n",
              "  <tbody>\n",
              "    <tr>\n",
              "      <th>0</th>\n",
              "      <td>6.1</td>\n",
              "      <td>2.8</td>\n",
              "      <td>4.7</td>\n",
              "      <td>1.2</td>\n",
              "      <td>Iris-versicolor</td>\n",
              "    </tr>\n",
              "    <tr>\n",
              "      <th>1</th>\n",
              "      <td>5.7</td>\n",
              "      <td>3.8</td>\n",
              "      <td>1.7</td>\n",
              "      <td>0.3</td>\n",
              "      <td>Iris-setosa</td>\n",
              "    </tr>\n",
              "    <tr>\n",
              "      <th>2</th>\n",
              "      <td>7.7</td>\n",
              "      <td>2.6</td>\n",
              "      <td>6.9</td>\n",
              "      <td>2.3</td>\n",
              "      <td>Iris-virginica</td>\n",
              "    </tr>\n",
              "    <tr>\n",
              "      <th>3</th>\n",
              "      <td>6.0</td>\n",
              "      <td>2.9</td>\n",
              "      <td>4.5</td>\n",
              "      <td>1.5</td>\n",
              "      <td>Iris-versicolor</td>\n",
              "    </tr>\n",
              "    <tr>\n",
              "      <th>4</th>\n",
              "      <td>6.8</td>\n",
              "      <td>2.8</td>\n",
              "      <td>4.8</td>\n",
              "      <td>1.4</td>\n",
              "      <td>Iris-versicolor</td>\n",
              "    </tr>\n",
              "  </tbody>\n",
              "</table>\n",
              "</div>"
            ],
            "text/plain": [
              "  Sepal Length (cm) Sepal Width (cm) Petal Length (cm) Petal Width (cm)  \\\n",
              "0               6.1              2.8               4.7              1.2   \n",
              "1               5.7              3.8               1.7              0.3   \n",
              "2               7.7              2.6               6.9              2.3   \n",
              "3               6.0              2.9               4.5              1.5   \n",
              "4               6.8              2.8               4.8              1.4   \n",
              "\n",
              "           Species  \n",
              "0  Iris-versicolor  \n",
              "1      Iris-setosa  \n",
              "2   Iris-virginica  \n",
              "3  Iris-versicolor  \n",
              "4  Iris-versicolor  "
            ]
          },
          "execution_count": 17,
          "metadata": {},
          "output_type": "execute_result"
        }
      ],
      "source": [
        "#Preprocessing sebelum visualisasi\n",
        "print(\"Ukuran Data Hasil Prediksi : \", y_pred.shape)\n",
        "print(\"Ukuran Data Atribut Data Latih : \", x_test.shape)\n",
        "dataLatihAsli = sc.inverse_transform(x_test) #reverse scalling(membalikan data ke nilai asli)\n",
        "hasil = np.reshape(y_pred, (30, 1))\n",
        "print(\"Ukuran Reshape Data Hasil Prediksi : \", hasil.shape)\n",
        "data = np.concatenate((dataLatihAsli, hasil), axis=1, dtype=object)\n",
        "print(\"Ukuran Data Latih : \", data.shape)\n",
        "\n",
        "#Mengubah ke bentuk data frame\n",
        "dataFrame = pd.DataFrame(data, columns = ['Sepal Length (cm)', 'Sepal Width (cm)', 'Petal Length (cm)', 'Petal Width (cm)', 'Species'])\n",
        "\n",
        "dataFrame.head()"
      ]
    },
    {
      "cell_type": "code",
      "execution_count": 18,
      "metadata": {
        "colab": {
          "base_uri": "https://localhost:8080/",
          "height": 509
        },
        "id": "Ovw05ZZZVO04",
        "outputId": "5770e711-9a6f-4a1c-e9c8-743c3ad3092c"
      },
      "outputs": [
        {
          "name": "stderr",
          "output_type": "stream",
          "text": [
            "d:\\Kuliah Online\\Coding & Machine Learning\\Env\\lib\\site-packages\\seaborn\\axisgrid.py:337: UserWarning: The `size` parameter has been renamed to `height`; please update your code.\n",
            "  warnings.warn(msg, UserWarning)\n"
          ]
        },
        {
          "data": {
            "text/plain": [
              "<seaborn.axisgrid.FacetGrid at 0x1818d010b20>"
            ]
          },
          "execution_count": 18,
          "metadata": {},
          "output_type": "execute_result"
        },
        {
          "data": {
            "image/png": "[encoded data removed]",
            "text/plain": [
              "<Figure size 537.225x432 with 1 Axes>"
            ]
          },
          "metadata": {},
          "output_type": "display_data"
        }
      ],
      "source": [
        "#Visualisasi hasil prediksi\n",
        "sns.set(style=\"white\", color_codes=True)\n",
        "sns.FacetGrid(dataFrame, hue=\"Species\", size=6).map(plt.scatter, \"Sepal Length (cm)\", \"Sepal Width (cm)\").add_legend()"
      ]
    },
    {
      "cell_type": "code",
      "execution_count": 19,
      "metadata": {
        "colab": {
          "base_uri": "https://localhost:8080/",
          "height": 427
        },
        "id": "laeZpm10WF8c",
        "outputId": "52d24c93-bfc4-4fbe-d9fe-da75fbe4673e"
      },
      "outputs": [
        {
          "data": {
            "text/plain": [
              "Text(0, 0.5, 'Mean Error')"
            ]
          },
          "execution_count": 19,
          "metadata": {},
          "output_type": "execute_result"
        },
        {
          "data": {
            "image/png": "[encoded data removed]",
            "text/plain": [
              "<Figure size 864x432 with 1 Axes>"
            ]
          },
          "metadata": {},
          "output_type": "display_data"
        }
      ],
      "source": [
        "#Membanndingkan akurasi model berdasarkan nilai K\n",
        "error = []\n",
        "\n",
        "#Menghitung akurasi berdasarkan nilai K menggunakan looping\n",
        "for i in range(1, 50):\n",
        "  knn = KNeighborsClassifier(n_neighbors=i)\n",
        "  knn.fit(x_train, y_train)\n",
        "  pred_i = knn.predict(x_test)\n",
        "  error.append(np.mean(pred_i != y_test))\n",
        "\n",
        "#Membuat Visualisasi grafik akurasi berdasarkan nilai K\n",
        "plt.figure(figsize=(12, 6))\n",
        "plt.plot(range(1, 50), error, color='red', linestyle='dashed', marker='o', markerfacecolor='blue', markersize=10)\n",
        "plt.title('Error Rate K Value')\n",
        "plt.xlabel('K Value')\n",
        "plt.ylabel('Mean Error')"
      ]
    },
    {
      "cell_type": "code",
      "execution_count": 20,
      "metadata": {
        "colab": {
          "base_uri": "https://localhost:8080/"
        },
        "id": "zd-Ld_A_NQBE",
        "outputId": "a623e7a4-c830-45be-e897-34c435706f4b"
      },
      "outputs": [
        {
          "name": "stdout",
          "output_type": "stream",
          "text": [
            "Masukkan Nilai Sepal Length (cm) :\n",
            "Masukkan Nilai Sepal Width (cm) :\n",
            "Masukkan Nilai Petal Length (cm) :\n",
            "Masukkan Nilai Petal Width (cm) :\n",
            "Data yang Ingin Diprediksi : [[20. 20. 20. 20.]]\n",
            "Hasil Normalisasi Data : [[17.29818715 38.11295107  9.33088239 25.08010924]]\n",
            "Hasil Prediksi :  ['Iris-virginica']\n"
          ]
        }
      ],
      "source": [
        "from re import A\n",
        "#Contoh memprediksi 1 data\n",
        "data = np.zeros((1,4), dtype=float)\n",
        "for x in range(4):\n",
        "  if x == 0:\n",
        "    print(\"Masukkan Nilai Sepal Length (cm) :\")\n",
        "    a = float(input())\n",
        "    data[0][x] = a\n",
        "  elif x == 1:\n",
        "    print(\"Masukkan Nilai Sepal Width (cm) :\")\n",
        "    a = float(input())\n",
        "    data[0][x] = a\n",
        "  elif x == 2:\n",
        "    print(\"Masukkan Nilai Petal Length (cm) :\")\n",
        "    a = float(input())\n",
        "    data[0][x] = a\n",
        "  elif x == 3:\n",
        "    print(\"Masukkan Nilai Petal Width (cm) :\")\n",
        "    a = float(input())\n",
        "    data[0][x] = a\n",
        "print(\"Data yang Ingin Diprediksi :\", data)\n",
        "data = sc.transform(data)\n",
        "print(\"Hasil Normalisasi Data :\", data)\n",
        "\n",
        "#Klasifikasi Data\n",
        "prediction = model.predict(data)\n",
        "print(\"Hasil Prediksi : \", prediction)"
      ]
    }
  ],
  "metadata": {
    "colab": {
      "name": "CMP_P11.ipynb",
      "provenance": []
    },
    "interpreter": {
      "hash": "ef70928b20deb03e0c0dca091b4fb95bb4ccbb13cf83d55d034bc5d795bd215b"
    },
    "kernelspec": {
      "display_name": "Python 3.9.7 ('Env': venv)",
      "language": "python",
      "name": "python3"
    },
    "language_info": {
      "codemirror_mode": {
        "name": "ipython",
        "version": 3
      },
      "file_extension": ".py",
      "mimetype": "text/x-python",
      "name": "python",
      "nbconvert_exporter": "python",
      "pygments_lexer": "ipython3",
      "version": "3.9.7"
    }
  },
  "nbformat": 4,
  "nbformat_minor": 0
}
